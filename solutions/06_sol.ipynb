{
 "cells": [
  {
   "cell_type": "markdown",
   "metadata": {},
   "source": [
    "## Chapter 6 - Decision Trees"
   ]
  },
  {
   "cell_type": "markdown",
   "metadata": {},
   "source": [
    "### Setup"
   ]
  },
  {
   "cell_type": "code",
   "execution_count": null,
   "metadata": {},
   "outputs": [],
   "source": [
    "import matplotlib as mpl\n",
    "from matplotlib import pyplot as plt\n",
    "import numpy as np\n",
    "import scipy as sp\n",
    "\n",
    "from sklearn.model_selection import train_test_split, ShuffleSplit, GridSearchCV\n",
    "from sklearn.datasets import make_moons\n",
    "from sklearn.tree import DecisionTreeClassifier\n",
    "from sklearn.metrics import accuracy_score"
   ]
  },
  {
   "cell_type": "markdown",
   "metadata": {},
   "source": [
    "### Solutions"
   ]
  },
  {
   "cell_type": "markdown",
   "metadata": {},
   "source": [
    "**1** What is the approximate depth of a decision tree trained (without restrictions) on a training set with one million instances?\n",
    "\n",
    "A decision tree trained without restrictions will keep creating splits until all leaves are pure, which leads to $m$ total nodes, where $m$ is the number of training instances. \\\n",
    "Given that for depth $k$ there will be $2^k$ nodes, if we set $m = 2^k$ and take logarithms of both sides we get $k = log_2(m)$, which for one million observations leads to a depth of about ~20. "
   ]
  },
  {
   "cell_type": "markdown",
   "metadata": {},
   "source": [
    "### 7: Train and fine-tune a Decision Tree for the moons dataset by following these steps:"
   ]
  },
  {
   "cell_type": "markdown",
   "metadata": {},
   "source": [
    "a. Use `make_moons(n_samples=10000, noise=0.4)` to generate a moons dataset."
   ]
  },
  {
   "cell_type": "code",
   "execution_count": null,
   "metadata": {},
   "outputs": [],
   "source": [
    "X_moons, y_moons = make_moons(n_samples=10000, noise=0.4, random_state=0)"
   ]
  },
  {
   "cell_type": "code",
   "execution_count": null,
   "metadata": {},
   "outputs": [],
   "source": [
    "# Visualise the moons dataset\n",
    "plt.scatter(X_moons[:,0], X_moons[:,1], c=y_moons, cmap='Paired', s=2)\n",
    "plt.title('Moons dataset')\n",
    "plt.xlabel('x1')\n",
    "plt.ylabel('x2')\n",
    "plt.show()"
   ]
  },
  {
   "cell_type": "markdown",
   "metadata": {},
   "source": [
    "b. Use train_test_split() to split the dataset into a training set\n",
    "and a test set."
   ]
  },
  {
   "cell_type": "code",
   "execution_count": null,
   "metadata": {},
   "outputs": [],
   "source": [
    "X_moons_train, X_moons_test, y_moons_train, y_moons_test = train_test_split(X_moons, y_moons,\n",
    "                                             test_size=0.2, random_state=0)"
   ]
  },
  {
   "cell_type": "markdown",
   "metadata": {},
   "source": [
    "c. Use grid search with cross-validation (with the help of the `GridSearchCV` class) to find good hyperparameter values for a `DecisionTreeClassifier`. \\\n",
    "Hint: try various values for `max_leaf_nodes`."
   ]
  },
  {
   "cell_type": "code",
   "execution_count": null,
   "metadata": {},
   "outputs": [],
   "source": [
    "params = {'max_leaf_nodes': list(range(2, 100)), \n",
    "          'min_samples_split': [2, 3, 4],\n",
    "          'max_depth': list(range(1,7))}\n",
    "grid_dt = GridSearchCV(DecisionTreeClassifier(random_state=0),\n",
    "                          param_grid=params,\n",
    "                            verbose=1, n_jobs=-1)\n",
    "grid_dt.fit(X_moons_train, y_moons_train)"
   ]
  },
  {
   "cell_type": "code",
   "execution_count": null,
   "metadata": {},
   "outputs": [],
   "source": [
    "grid_dt.best_estimator_"
   ]
  },
  {
   "cell_type": "markdown",
   "metadata": {},
   "source": [
    "d. Train it on the full training set using these hyperparameters, and measure your model's performance on the test set. You should get roughly 85% to 87% accuracy."
   ]
  },
  {
   "cell_type": "code",
   "execution_count": null,
   "metadata": {},
   "outputs": [],
   "source": [
    "# Create a new DT model with the best hyperparameters\n",
    "dt = DecisionTreeClassifier(**grid_dt.best_params_, random_state=0)\n",
    "\n",
    "# Train the model on full training set\n",
    "dt.fit(X_moons_train, y_moons_train)\n",
    "\n",
    "# Evaluate the model on the test set\n",
    "dt.score(X_moons_test, y_moons_test)\n",
    "\n",
    "# Or use more different method\n",
    "y_moons_pred = dt.predict(X_moons_test)\n",
    "accuracy = accuracy_score(y_moons_test, y_moons_pred)\n",
    "print(\"Accuracy: {:.2f}%\".format(accuracy*100))"
   ]
  },
  {
   "cell_type": "code",
   "execution_count": null,
   "metadata": {},
   "outputs": [],
   "source": [
    "# ...or simpler way just use the grid search object directly\n",
    "# (by default it refits the best estimator on the whole training set)\n",
    "grid_dt.score(X_moons_test, y_moons_test)"
   ]
  },
  {
   "cell_type": "markdown",
   "metadata": {},
   "source": [
    "### 8: Grow a forest"
   ]
  },
  {
   "cell_type": "markdown",
   "metadata": {},
   "source": [
    "a. Continuing the previous exercise, generate 1,000 subsets of the training set, each containing 100 instances selected randomly. Hint: you can use Scikit-Learn's `ShuffleSplit` class for this."
   ]
  },
  {
   "cell_type": "code",
   "execution_count": null,
   "metadata": {},
   "outputs": [],
   "source": [
    "# Use ShuffleSplit to generate 1000 different training sets, each containing 100 instances\n",
    "# selected randomly.\n",
    "ss = ShuffleSplit(n_splits=1000, train_size=100, random_state=0)\n",
    "\n",
    "subsets = []\n",
    "for train_index, test_index in ss.split(X_moons_train):\n",
    "    X_sub_train = X_moons_train[train_index]\n",
    "    y_sub_train = y_moons_train[train_index]\n",
    "    subsets.append((X_sub_train, y_sub_train))"
   ]
  },
  {
   "cell_type": "markdown",
   "metadata": {},
   "source": [
    "b. Train one Decision Tree on each subset, using the best hyperparameter values found above. Evaluate these 1,000 Decision Trees on the test set. Since they were trained on smaller sets, these Decision Trees will likely perform worse than the first Decision Tree, achieving only about 80% accuracy."
   ]
  },
  {
   "cell_type": "code",
   "execution_count": null,
   "metadata": {},
   "outputs": [],
   "source": [
    "# Train one Decision Tree on each subset, using the best hyperparameter values found above.\n",
    "forest = [DecisionTreeClassifier(**grid_dt.best_params_, random_state=0) for _ in range(1000)]\n",
    "\n",
    "for dt, (X_sub_train, y_sub_train) in zip(forest, subsets):\n",
    "    dt.fit(X_sub_train, y_sub_train)"
   ]
  },
  {
   "cell_type": "code",
   "execution_count": null,
   "metadata": {},
   "outputs": [],
   "source": [
    "# Now let's evaluate all these Decision Trees on the test set\n",
    "forest_scores = [dt.score(X_moons_test, y_moons_test) for dt in dts]"
   ]
  },
  {
   "cell_type": "code",
   "execution_count": null,
   "metadata": {},
   "outputs": [],
   "source": [
    "# As expected, mean score is about 80%\n",
    "np.mean(forest_scores)"
   ]
  },
  {
   "cell_type": "markdown",
   "metadata": {},
   "source": [
    "c. Now comes the magic. For each test set instance, generate the predictions of the 1,000 Decision Trees, and keep only the most frequent prediction (you can use SciPy's `mode()` function for this). This gives you _majority-vote predictions_ over the test set."
   ]
  },
  {
   "cell_type": "code",
   "execution_count": null,
   "metadata": {},
   "outputs": [],
   "source": [
    "for dt in forest:\n",
    "    y_forest_pred = dt.predict(X_moons_test)"
   ]
  }
 ],
 "metadata": {
  "kernelspec": {
   "display_name": "homl3",
   "language": "python",
   "name": "python3"
  },
  "language_info": {
   "codemirror_mode": {
    "name": "ipython",
    "version": 3
   },
   "file_extension": ".py",
   "mimetype": "text/x-python",
   "name": "python",
   "nbconvert_exporter": "python",
   "pygments_lexer": "ipython3",
   "version": "3.10.12"
  }
 },
 "nbformat": 4,
 "nbformat_minor": 2
}
